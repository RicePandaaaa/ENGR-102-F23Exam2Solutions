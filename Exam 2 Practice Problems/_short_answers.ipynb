{
 "cells": [
  {
   "cell_type": "markdown",
   "metadata": {},
   "source": [
    "1. List 5 good codings practices that have been mentioned in this course.\n",
    "\n",
    "- Comment your code (with meaningful comments)\n",
    "- To use meaningful variable names\n",
    "- Don't re-invent the wheel\n",
    "- Keep it simple\n",
    "- Plan out your code"
   ]
  },
  {
   "cell_type": "markdown",
   "metadata": {},
   "source": [
    "2. Identify the keys and values and write the command to add the key \"Orange\" with value 1 to the dictionary."
   ]
  },
  {
   "cell_type": "code",
   "execution_count": 1,
   "metadata": {},
   "outputs": [
    {
     "name": "stdout",
     "output_type": "stream",
     "text": [
      "['Apple', 'Pear', 'Banana'] [3, 5, 2]\n",
      "{'Apple': 3, 'Pear': 5, 'Banana': 2, 'Orange': 1}\n"
     ]
    }
   ],
   "source": [
    "mydict = {'Apple' : 3, 'Pear' : 5, 'Banana' : 2}\n",
    "\n",
    "print(list(mydict.keys()), list(mydict.values()))\n",
    "mydict[\"Orange\"] = 1\n",
    "print(mydict)"
   ]
  },
  {
   "cell_type": "markdown",
   "metadata": {},
   "source": [
    "3. Explain how dictionaries are different from lists, and how lists are different from tuples\n",
    "\n",
    "In a list, the values are stored in a particular order and where they are in the list relative to one another determines their \"index\". But in a dictionary, all the values are associated with a unique key determined by the programmer. The list stores values in `[]` while the dictionary stores values in `{}`.\n",
    "\n",
    "The tuple is immutable (cannot change values), while the list is mutable (can change values). Visually, the tuple stores items in `()` while the list stores in `[]`."
   ]
  },
  {
   "cell_type": "markdown",
   "metadata": {},
   "source": [
    "4. Identify and explain 3 ways strings are similar to lists."
   ]
  },
  {
   "cell_type": "code",
   "execution_count": 3,
   "metadata": {},
   "outputs": [
    {
     "name": "stdout",
     "output_type": "stream",
     "text": [
      "Anthony A\n",
      "['Anthony', 'Dr. Ritchey'] Anthon\n",
      "Anthony\n",
      "Dr. Ritchey\n",
      "Samantha\n",
      "A\n",
      "n\n",
      "t\n",
      "h\n",
      "o\n",
      "n\n",
      "y\n",
      "3 7\n"
     ]
    }
   ],
   "source": [
    "# Similarity 1: You can use indexing and slicing on them with the same format\n",
    "names = [\"Anthony\", \"Dr. Ritchey\", \"Samantha\"]\n",
    "name = \"Anthony\"\n",
    "\n",
    "print(names[0], name[0])\n",
    "print(names[:-1], name[:-1])\n",
    "\n",
    "# Similarity 2: You can loop through them with a for loop\n",
    "\n",
    "for i in names:\n",
    "    print(i)\n",
    "for i in name:\n",
    "    print(i)\n",
    "\n",
    "# Similarity 3: You can use len()\n",
    "\n",
    "print(len(names), len(name))"
   ]
  },
  {
   "cell_type": "markdown",
   "metadata": {},
   "source": [
    "5. List all of the data types we have seen in this course and provide an example of each. Identify which ones are mutable and which are immutable"
   ]
  },
  {
   "cell_type": "code",
   "execution_count": null,
   "metadata": {},
   "outputs": [],
   "source": [
    "# Primitive data types (all immutable)\n",
    "age = 21   # int\n",
    "gpa = 4.9  # float\n",
    "is_guy = True  # boolean\n",
    "name = \"Anthony\" # string\n",
    "\n",
    "# Mutable collections\n",
    "ages = [1, 2, 3]  # list\n",
    "words = {\"a\": 1}  # dictionaries\n",
    "unique_nums = set(ages) # sets\n",
    "\n",
    "# Immutable collection\n",
    "cant_change_this = (1, 2, 3)\n",
    "\n"
   ]
  },
  {
   "cell_type": "markdown",
   "metadata": {},
   "source": [
    "6. In your own words, explain the difference between the top-down and bottom-up design methods. \n",
    "Name at least one advantage and one disadvantage for each.\n",
    "\n",
    "Top-down design focuses on breaking bigger tasks into smaller, more manageable tasks that may be representable with a small chunk of code (could be a small function or just a handful of lines of code) while bottom-up design focuses on creating tasks from the get-go and building up/categorizing slowly. \n",
    "\n",
    "The advantage of top-down design is the ability to break down large chunks of work into more manageable sizes (which is preferrable in groups). The advantage of bottom-up design allows you to plan your immediate tasks from the get-go.\n",
    "\n",
    "The disadvantage of top-down design is that the code may have low re-useability due to task specialization. The disadvantage of bottom-down design is that you may stray off track from the original idea/prompt."
   ]
  },
  {
   "cell_type": "markdown",
   "metadata": {},
   "source": [
    "7. Describe the various components of a hierarchy. How can we use one in program design?\n",
    "\n",
    "A hierarchy contains various nodes (node = task). The top most node is your root (your primary objective) and your nodes without child nodes (nodes that branch that below them) are called leafs (your tasks that are directly translated into code). You can use them to plan out and structure your code (e.g. top-down and bottom-up design methods)."
   ]
  },
  {
   "cell_type": "markdown",
   "metadata": {},
   "source": [
    "8. Does it matter if we use the same variable names inside a user defined function and the main \n",
    "program? Why (not)?"
   ]
  },
  {
   "cell_type": "code",
   "execution_count": 3,
   "metadata": {},
   "outputs": [
    {
     "name": "stdout",
     "output_type": "stream",
     "text": [
      "Inside function 3\n",
      "Outside function 2\n"
     ]
    }
   ],
   "source": [
    "a = 2 \n",
    "\n",
    "def hi():\n",
    "    a = 3\n",
    "    print(\"Inside function\", a)\n",
    "\n",
    "hi()\n",
    "print(\"Outside function\", a)\n",
    "\n",
    "# The difference is due to global and local scope"
   ]
  },
  {
   "cell_type": "markdown",
   "metadata": {},
   "source": [
    "9. Does it matter where in our code we write function definitions?"
   ]
  },
  {
   "cell_type": "code",
   "execution_count": 1,
   "metadata": {},
   "outputs": [
    {
     "name": "stdout",
     "output_type": "stream",
     "text": [
      "2\n"
     ]
    }
   ],
   "source": [
    "# Yes it does matter, you must define the function first\n",
    "\n",
    "def y():\n",
    "    return 2\n",
    "\n",
    "x = y()\n",
    "\n",
    "print(x)"
   ]
  },
  {
   "cell_type": "markdown",
   "metadata": {},
   "source": [
    "10. Can functions access main memory? How do we pass information into a function? Can functions \n",
    "return multiple values?"
   ]
  },
  {
   "cell_type": "markdown",
   "metadata": {},
   "source": [
    "Functions can read main memory but cannot directly change it. You can use parameters to pass information into a function. Functions cannot return multiple values, but it can return a tuple that contains multiple values itself."
   ]
  },
  {
   "cell_type": "markdown",
   "metadata": {},
   "source": [
    "11.  What type of coding error do you hate the most and why?\n",
    "\n",
    "There are three types of errors: syntax, runtime, and logic. Logic errors are the ones I hate the most because they're the hardest to debug."
   ]
  },
  {
   "cell_type": "markdown",
   "metadata": {},
   "source": [
    "12.  When you are trying to fix your code, what are some alternatives to using a debugger?\n",
    "\n",
    "One is to use your eyes. Two is to use a lot of `print()` statements."
   ]
  },
  {
   "cell_type": "markdown",
   "metadata": {},
   "source": [
    "13.  When would it be best to use the `myfile = open(...)` and `myfile.close()` commands for \n",
    "opening files as opposed to the `with open(...) as myfile:` command? \n",
    "\n",
    "Personally, I will use `open()` if I have to reuse the file over and over again at different spots. However, I generally prefer to use `with` because I can open multiple files at the same time and Python will guarentee the opened files will close correctly even if the program faces an unexpected error."
   ]
  },
  {
   "cell_type": "markdown",
   "metadata": {},
   "source": [
    "14.  When opening files, what is the difference between the designators r, w, r+, and a?\n",
    "\n",
    "\"r\" is for read-only mode, \"w\" is for write-only mode, \"r+\" is for reading and writing mode, and \"a\" is for append mode."
   ]
  },
  {
   "cell_type": "markdown",
   "metadata": {},
   "source": [
    "15.  What are the differences between `myfile.read()`, `myfile.readline()`, \n",
    "`myfile.readlines()`, and `list(myfile)`? \n",
    "\n",
    "`read()` return a string with all the lines attached to each other in order. `readline()` will return the next line (moves the cursor down one) if there is a remaining line to read. `readlines()` and `list(myfile)` essentially do the same thing: returns a list of all the lines (each line is its own string)."
   ]
  },
  {
   "cell_type": "markdown",
   "metadata": {},
   "source": [
    "16.  What command(s) are used to remove the leading and trailing whitespace in a string? To separate a string into a list of its components with a specified delimiter? Write an example using both"
   ]
  },
  {
   "cell_type": "code",
   "execution_count": 8,
   "metadata": {},
   "outputs": [
    {
     "name": "stdout",
     "output_type": "stream",
     "text": [
      "'Anthony'\n",
      "['', '', '\\n\\t\\r', 'Anthony', '\\n', '', '', '\\t', '', '', '\\r']\n"
     ]
    }
   ],
   "source": [
    "name = \"  \\n\\t\\r Anthony \\n   \\t   \\r\"\n",
    "\n",
    "# Strip the string\n",
    "print(repr(name.strip()))  # repr() outputs the raw version\n",
    "\n",
    "# Split on a delimiter\n",
    "print(name.split(\" \"))"
   ]
  },
  {
   "cell_type": "markdown",
   "metadata": {},
   "source": [
    "17.  Write the command to print the value of pi to 4 decimal places to the screen. Don’t forget to import pi from the math module!"
   ]
  },
  {
   "cell_type": "code",
   "execution_count": 1,
   "metadata": {},
   "outputs": [
    {
     "name": "stdout",
     "output_type": "stream",
     "text": [
      "3.1416\n"
     ]
    }
   ],
   "source": [
    "from math import pi\n",
    "\n",
    "print(f\"{pi:.4f}\")"
   ]
  },
  {
   "cell_type": "markdown",
   "metadata": {},
   "source": [
    "18.  Write the command to import the `coolfunc()` function from the neatomod module in the \n",
    "funpack package and rename it to `coolf`. Now write the command to import all functions from \n",
    "the neatomod module. What command can we use to obtain a list of all functions inside the \n",
    "module? "
   ]
  },
  {
   "cell_type": "code",
   "execution_count": 2,
   "metadata": {},
   "outputs": [
    {
     "data": {
      "text/plain": [
       "['__doc__',\n",
       " '__loader__',\n",
       " '__name__',\n",
       " '__package__',\n",
       " '__spec__',\n",
       " 'acos',\n",
       " 'acosh',\n",
       " 'asin',\n",
       " 'asinh',\n",
       " 'atan',\n",
       " 'atan2',\n",
       " 'atanh',\n",
       " 'cbrt',\n",
       " 'ceil',\n",
       " 'comb',\n",
       " 'copysign',\n",
       " 'cos',\n",
       " 'cosh',\n",
       " 'degrees',\n",
       " 'dist',\n",
       " 'e',\n",
       " 'erf',\n",
       " 'erfc',\n",
       " 'exp',\n",
       " 'exp2',\n",
       " 'expm1',\n",
       " 'fabs',\n",
       " 'factorial',\n",
       " 'floor',\n",
       " 'fmod',\n",
       " 'frexp',\n",
       " 'fsum',\n",
       " 'gamma',\n",
       " 'gcd',\n",
       " 'hypot',\n",
       " 'inf',\n",
       " 'isclose',\n",
       " 'isfinite',\n",
       " 'isinf',\n",
       " 'isnan',\n",
       " 'isqrt',\n",
       " 'lcm',\n",
       " 'ldexp',\n",
       " 'lgamma',\n",
       " 'log',\n",
       " 'log10',\n",
       " 'log1p',\n",
       " 'log2',\n",
       " 'modf',\n",
       " 'nan',\n",
       " 'nextafter',\n",
       " 'perm',\n",
       " 'pi',\n",
       " 'pow',\n",
       " 'prod',\n",
       " 'radians',\n",
       " 'remainder',\n",
       " 'sin',\n",
       " 'sinh',\n",
       " 'sqrt',\n",
       " 'tan',\n",
       " 'tanh',\n",
       " 'tau',\n",
       " 'trunc',\n",
       " 'ulp']"
      ]
     },
     "execution_count": 2,
     "metadata": {},
     "output_type": "execute_result"
    }
   ],
   "source": [
    "from funpack.neatomod import coolfunc as coolf\n",
    "from funpack.neatomod import *\n",
    "\n",
    "# dir() is what you use to see all the functions inside the module\n",
    "# below output is dir(math)"
   ]
  },
  {
   "cell_type": "markdown",
   "metadata": {},
   "source": [
    "19. What are the differences between `np.arange()`, `np.array()`, and `np.linspace()`? How \n",
    "many rows and columns will the matrix `np.arange(15).reshape(5, 3)` have?"
   ]
  },
  {
   "cell_type": "code",
   "execution_count": 2,
   "metadata": {},
   "outputs": [
    {
     "name": "stdout",
     "output_type": "stream",
     "text": [
      "[0 1 2 3 4 5 6 7 8 9]\n",
      "[[1 2 3]\n",
      " [4 5 6]]\n",
      "[ 0.          0.34482759  0.68965517  1.03448276  1.37931034  1.72413793\n",
      "  2.06896552  2.4137931   2.75862069  3.10344828  3.44827586  3.79310345\n",
      "  4.13793103  4.48275862  4.82758621  5.17241379  5.51724138  5.86206897\n",
      "  6.20689655  6.55172414  6.89655172  7.24137931  7.5862069   7.93103448\n",
      "  8.27586207  8.62068966  8.96551724  9.31034483  9.65517241 10.        ]\n",
      "[[ 0  1  2]\n",
      " [ 3  4  5]\n",
      " [ 6  7  8]\n",
      " [ 9 10 11]\n",
      " [12 13 14]]\n"
     ]
    }
   ],
   "source": [
    "import numpy as np\n",
    "\n",
    "print(np.arange(0, 10))\n",
    "print(np.array([[1, 2, 3], [4, 5, 6]]))\n",
    "print(np.linspace(0, 10, 30))\n",
    "\n",
    "print(np.arange(15).reshape(5, 3))"
   ]
  },
  {
   "cell_type": "markdown",
   "metadata": {},
   "source": [
    "20.  What are the differences between plt.plot(), plt.bar(), plt.hist(), and \n",
    "plt.scatter()? How do you set the color of a line? The marker shapes? The axis labels? The \n",
    "title? The legend?\n",
    "\n",
    "The differences between those four is the type of plot they make (standard line, bar graph, histrogram, and scatter plot). Inside the plotting function, declare the `color` to set the color. Also, you can declare the linestyle to change the marker shape. The axis labels can be changed with `set_xlabel()` and `set_ylabel()`. You can set the title with `title()` and set the legend with `legend()`."
   ]
  },
  {
   "cell_type": "markdown",
   "metadata": {},
   "source": [
    "21.  Why is it important to include docstrings when writing functions? \n"
   ]
  },
  {
   "cell_type": "markdown",
   "metadata": {},
   "source": [
    "This allows you to better document the function and lets users use the `help()`."
   ]
  },
  {
   "cell_type": "code",
   "execution_count": 3,
   "metadata": {},
   "outputs": [
    {
     "name": "stdout",
     "output_type": "stream",
     "text": [
      "Help on function hi in module __main__:\n",
      "\n",
      "hi()\n",
      "    Says hi\n",
      "\n"
     ]
    }
   ],
   "source": [
    "def hi():\n",
    "    \"\"\" Says hi \"\"\"\n",
    "    print(\"Bye\")\n",
    "\n",
    "help(hi)"
   ]
  }
 ],
 "metadata": {
  "kernelspec": {
   "display_name": "Python 3",
   "language": "python",
   "name": "python3"
  },
  "language_info": {
   "codemirror_mode": {
    "name": "ipython",
    "version": 3
   },
   "file_extension": ".py",
   "mimetype": "text/x-python",
   "name": "python",
   "nbconvert_exporter": "python",
   "pygments_lexer": "ipython3",
   "version": "3.11.5"
  }
 },
 "nbformat": 4,
 "nbformat_minor": 2
}
