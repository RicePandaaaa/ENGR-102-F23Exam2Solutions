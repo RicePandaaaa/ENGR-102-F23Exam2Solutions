{
 "cells": [
  {
   "cell_type": "markdown",
   "metadata": {},
   "source": [
    "1. List 5 good codings practices that have been mentioned in this course.\n",
    "\n",
    "- Always write meaningful comments!\n",
    "- To use meaningful variable names\n",
    "- To space out your code\n",
    "- Keep it simple (don't reinvent the wheel)\n",
    "- Use pyramid approach/top-down architecture(?)"
   ]
  },
  {
   "cell_type": "markdown",
   "metadata": {},
   "source": [
    "2. Identify the keys and values and write the command to add the key \"Orange\" with value 1 to the dictionary."
   ]
  },
  {
   "cell_type": "code",
   "execution_count": null,
   "metadata": {},
   "outputs": [],
   "source": [
    "# Solution for problem two\n",
    "\n",
    "# Identifying keys and values\n",
    "mydict = {'Apple' : 3, 'Pear' : 5, 'Banana' : 2}\n",
    "\n",
    "keys = [\"Apple\", \"Pear\", \"Banana\"]\n",
    "values = [3, 5, 2]\n",
    "\n",
    "print(keys, list(mydict.keys()))\n",
    "print(values, list(mydict.values()))\n",
    "\n",
    "# Add the key\n",
    "mydict[\"Orange\"] = 1\n",
    "print(mydict)\n"
   ]
  },
  {
   "cell_type": "markdown",
   "metadata": {},
   "source": [
    "3. Explain how dictionaries are different from lists, and how lists are different from tuples\n",
    "\n",
    "Dictionaries hold key-value pairs, while lists hold values that have an internal numeric index that starts at zero. To add to a dictionary, simply assign a value to a key that doesn't exist. To add to a list, you use the `append()` function.\n",
    "\n",
    "Lists are mutable, but tuples are not (they are immutable)."
   ]
  },
  {
   "cell_type": "code",
   "execution_count": null,
   "metadata": {},
   "outputs": [],
   "source": [
    "# The tuple itself is immutable not necessarily the value\n",
    "\n",
    "nums = [1, 2, 3]\n",
    "\n",
    "nums_ = (nums, \"hi\")\n",
    "\n",
    "nums[0] = 3\n",
    "\n",
    "print(nums_)"
   ]
  },
  {
   "cell_type": "markdown",
   "metadata": {},
   "source": [
    "4. Identify and explain 3 ways strings are similar to lists."
   ]
  },
  {
   "cell_type": "code",
   "execution_count": null,
   "metadata": {},
   "outputs": [],
   "source": [
    "# Solution for Q4\n",
    "\n",
    "name = \"Anthony\"\n",
    "ages = [19, 20, 21]\n",
    "\n",
    "# Similarity number 1: You can loop through them directly\n",
    "for char in name:\n",
    "    print(char, end=\" \")\n",
    "print()\n",
    "for age in ages:\n",
    "    print(age, end=\" \")\n",
    "print()\n",
    "\n",
    "# Similarity number 2: You can index them and slice them\n",
    "print(name[0], ages[0], name[-1], ages[-1])\n",
    "print(name[:-2], ages[:2])\n",
    "\n",
    "# Similarity number 3: You can use len() on them\n",
    "print(len(name), len(ages))"
   ]
  },
  {
   "cell_type": "markdown",
   "metadata": {},
   "source": [
    "5. List all of the data types we have seen in this course and provide an example of each. Identify which ones are mutable and which are immutable"
   ]
  },
  {
   "cell_type": "code",
   "execution_count": null,
   "metadata": {},
   "outputs": [],
   "source": [
    "# Four primitive data types: int, float, bool, string [all immutable]\n",
    "age = 20 \n",
    "gpa = 5.00\n",
    "can_drink = False\n",
    "name = \"Anthony\"\n",
    "\n",
    "# \"Collections\": lists, tuples, dictionaries, set (all mutable except for dictionary)\n",
    "myList = [1, 2, 3]\n",
    "myTuple = (1, 2, 3)\n",
    "myDictionary = {1: 2, 3: 4, 5: 6}\n",
    "mySet = set()"
   ]
  },
  {
   "cell_type": "markdown",
   "metadata": {},
   "source": [
    "6. In your own words, explain the difference between the top-down and bottom-up design methods. \n",
    "Name at least one advantage and one disadvantage for each.\n",
    "\n",
    "**Top-down:** Top-down design method is when you take big tasks and break them down slowly into smaller, more manageable tasks until each task can be represented by a small snippet of code. One pro is that it is easier to plan how your code will be structured. One con is if you have really big tasks, it can be very painful to plan out and the snippets are hard to connect to one another if there are too many.\n",
    "\n",
    "**Bottom-up:** Bottom-up design method is when you slowly build up to bigger tasks by connections to one another. The pro of this design method is that you start with small, testable pieces of code and then slowly connect everything together, allowing you to test as you go more easily. The con is that this is dependent on having enough small tasks and can be derailed by insufficient planning."
   ]
  },
  {
   "cell_type": "markdown",
   "metadata": {},
   "source": [
    "7. Describe the various components of a hierarchy. How can we use one in program design?\n",
    "\n",
    "Usually you have nodes (parent or children) and leaves (nodes with no children). These nodes help highlight relationships from one task to another and one code snippet to another. Holistically, a hierarchy also helps create a structure and a plan for the entire program."
   ]
  },
  {
   "cell_type": "markdown",
   "metadata": {},
   "source": [
    "8. Does it matter if we use the same variable names inside a user defined function and the main \n",
    "program? Why (not)?"
   ]
  },
  {
   "cell_type": "code",
   "execution_count": null,
   "metadata": {},
   "outputs": [],
   "source": [
    "# Solution to problem 8\n",
    "\n",
    "# Answer is no due to local scope!\n",
    "\n",
    "def add(a, b):\n",
    "    a = 4\n",
    "    b = 5\n",
    "    print(a + b)\n",
    "\n",
    "a = 3\n",
    "b = 2\n",
    "print(a + b, a, b)\n",
    "add(a, b)\n",
    "print(a, b)"
   ]
  },
  {
   "cell_type": "markdown",
   "metadata": {},
   "source": [
    "9. Does it matter where in our code we write function definitions?"
   ]
  },
  {
   "cell_type": "code",
   "execution_count": 1,
   "metadata": {},
   "outputs": [
    {
     "ename": "NameError",
     "evalue": "name 'x' is not defined",
     "output_type": "error",
     "traceback": [
      "\u001b[1;31m---------------------------------------------------------------------------\u001b[0m",
      "\u001b[1;31mNameError\u001b[0m                                 Traceback (most recent call last)",
      "\u001b[1;32me:\\F23Exam2PracticeSolutions\\Exam 2 Practice Problems\\_short_answers.ipynb Cell 15\u001b[0m line \u001b[0;36m3\n\u001b[0;32m      <a href='vscode-notebook-cell:/e%3A/F23Exam2PracticeSolutions/Exam%202%20Practice%20Problems/_short_answers.ipynb#X26sZmlsZQ%3D%3D?line=0'>1</a>\u001b[0m \u001b[39m# Solution to 9 (answer is Yes because Python is a sequential language!)\u001b[39;00m\n\u001b[1;32m----> <a href='vscode-notebook-cell:/e%3A/F23Exam2PracticeSolutions/Exam%202%20Practice%20Problems/_short_answers.ipynb#X26sZmlsZQ%3D%3D?line=2'>3</a>\u001b[0m y \u001b[39m=\u001b[39m x()\n\u001b[0;32m      <a href='vscode-notebook-cell:/e%3A/F23Exam2PracticeSolutions/Exam%202%20Practice%20Problems/_short_answers.ipynb#X26sZmlsZQ%3D%3D?line=4'>5</a>\u001b[0m \u001b[39mdef\u001b[39;00m \u001b[39mx\u001b[39m():\n\u001b[0;32m      <a href='vscode-notebook-cell:/e%3A/F23Exam2PracticeSolutions/Exam%202%20Practice%20Problems/_short_answers.ipynb#X26sZmlsZQ%3D%3D?line=5'>6</a>\u001b[0m     \u001b[39mprint\u001b[39m(\u001b[39m\"\u001b[39m\u001b[39mHi\u001b[39m\u001b[39m\"\u001b[39m)\n",
      "\u001b[1;31mNameError\u001b[0m: name 'x' is not defined"
     ]
    }
   ],
   "source": [
    "# Solution to 9 (answer is Yes because Python is a sequential language!)\n",
    "\n",
    "y = x()\n",
    "\n",
    "def x():\n",
    "    print(\"Hi\")"
   ]
  },
  {
   "cell_type": "markdown",
   "metadata": {},
   "source": [
    "10. Can functions access main memory? How do we pass information into a function? Can functions \n",
    "return multiple values?"
   ]
  },
  {
   "cell_type": "code",
   "execution_count": 7,
   "metadata": {},
   "outputs": [
    {
     "name": "stdout",
     "output_type": "stream",
     "text": [
      "5\n",
      "3\n",
      "('Anthony', 'Ryan', 'Sam', 'Erica', 'Casey')\n"
     ]
    }
   ],
   "source": [
    "# Solution to Q10\n",
    "\n",
    "# Part 1: Yes but be careful not to change it\n",
    "def F(): \n",
    "    # a += 3 Error\n",
    "    print(a)\n",
    "\n",
    "a = 5\n",
    "F()\n",
    "\n",
    "# Part 2: Pass information using parameters\n",
    "def G(a, b):\n",
    "    print(a + b)\n",
    "\n",
    "G(1, 2)\n",
    "\n",
    "# Part 3: Yes (if you count a tuple to store multiple values)\n",
    "def words():\n",
    "    return \"Anthony\", \"Ryan\", \"Sam\", \"Erica\", \"Casey\"\n",
    "\n",
    "print(words())"
   ]
  },
  {
   "cell_type": "markdown",
   "metadata": {},
   "source": [
    "11.  What type of coding error do you hate the most and why?\n",
    "\n",
    "I hate logic errors the most because they're the hardest to debug since they don't cause an actual error."
   ]
  },
  {
   "cell_type": "markdown",
   "metadata": {},
   "source": [
    "12.  When you are trying to fix your code, what are some alternatives to using a debugger?\n",
    "\n",
    "Usually just `print` statements and reading code (maybe use paper)."
   ]
  },
  {
   "cell_type": "markdown",
   "metadata": {},
   "source": [
    "13.  When would it be best to use the `myfile = open(...)` and `myfile.close()` commands for \n",
    "opening files as opposed to the `with open(...) as myfile:` command? \n",
    "\n",
    "You can use the former if you want to avoid reopening the file over and over again by opening at the very start of the program and closing at the very end of the program."
   ]
  },
  {
   "cell_type": "markdown",
   "metadata": {},
   "source": [
    "14.  When opening files, what is the difference between the designators r, w, r+, and a?\n",
    "\n",
    "\"r\" is for read only, \"w\" is for write-mode, \"a\" is for append-mode, and \"r+\" is for read and writing mode. \"a+\" is for adppending and reading."
   ]
  },
  {
   "cell_type": "markdown",
   "metadata": {},
   "source": [
    "15.  What are the differences between `myfile.read()`, `myfile.readline()`, \n",
    "`myfile.readlines()`, and `list(myfile)`? \n",
    "\n",
    "`read()` gives you one big string with all the content in it. `readline()` gives you just the current line. `readlines()` gives you a list of all the lines and so does `list(myfile)`.\n"
   ]
  },
  {
   "cell_type": "code",
   "execution_count": 4,
   "metadata": {},
   "outputs": [
    {
     "name": "stdout",
     "output_type": "stream",
     "text": [
      "'a\\nb\\nc\\nd\\ne'\n",
      "'a\\n'\n",
      "['a\\n', 'b\\n', 'c\\n', 'd\\n', 'e']\n",
      "['a\\n', 'b\\n', 'c\\n', 'd\\n', 'e']\n"
     ]
    }
   ],
   "source": [
    "# Solution to 15\n",
    "\n",
    "with open(\"E:\\F23Exam2PracticeSolutions\\Exam 2 Practice Problems\\yo.txt\", \"r\") as f:\n",
    "    print(repr(f.read()))\n",
    "\n",
    "with open(\"E:\\F23Exam2PracticeSolutions\\Exam 2 Practice Problems\\yo.txt\", \"r\") as f:\n",
    "    print(repr(f.readline()))\n",
    "          \n",
    "with open(\"E:\\F23Exam2PracticeSolutions\\Exam 2 Practice Problems\\yo.txt\", \"r\") as f:\n",
    "    print(repr(f.readlines()))\n",
    "          \n",
    "with open(\"E:\\F23Exam2PracticeSolutions\\Exam 2 Practice Problems\\yo.txt\", \"r\") as f:\n",
    "    print(repr(list(f)))"
   ]
  },
  {
   "cell_type": "markdown",
   "metadata": {},
   "source": [
    "16.  What command(s) are used to remove the leading and trailing whitespace in a string? To separate a string into a list of its components with a specified delimiter? Write an example using both"
   ]
  },
  {
   "cell_type": "code",
   "execution_count": 12,
   "metadata": {},
   "outputs": [
    {
     "name": "stdout",
     "output_type": "stream",
     "text": [
      "'Anthony'\n",
      "['A', 'tho', 'y']\n"
     ]
    }
   ],
   "source": [
    "# Solution to 16\n",
    "\n",
    "name = \"\\n\\rAnthony  \\n  \\r\"\n",
    "print(repr(name.strip()))\n",
    "\n",
    "letters = name.strip().split(\"n\")\n",
    "print(letters)"
   ]
  },
  {
   "cell_type": "markdown",
   "metadata": {},
   "source": [
    "17.  Write the command to print the value of pi to 4 decimal places to the screen. Don’t forget to import pi from the math module!"
   ]
  },
  {
   "cell_type": "code",
   "execution_count": 1,
   "metadata": {},
   "outputs": [
    {
     "name": "stdout",
     "output_type": "stream",
     "text": [
      "3.1416\n"
     ]
    }
   ],
   "source": [
    "from math import pi\n",
    "\n",
    "print(f\"{pi:.4f}\")"
   ]
  },
  {
   "cell_type": "markdown",
   "metadata": {},
   "source": [
    "18.  Write the command to import the `coolfunc()` function from the neatomod module in the \n",
    "funpack package and rename it to `coolf`. Now write the command to import all functions from \n",
    "the neatomod module. What command can we use to obtain a list of all functions inside the \n",
    "module? "
   ]
  },
  {
   "cell_type": "code",
   "execution_count": null,
   "metadata": {},
   "outputs": [],
   "source": [
    "# Solution to Q18\n",
    "\n",
    "from funpact import neatomod.coolfunc as coolf\n",
    "\n",
    "from funpact.neatomod import *\n",
    "\n",
    "print(dir(funpact.neatomod))"
   ]
  },
  {
   "cell_type": "markdown",
   "metadata": {},
   "source": [
    "19. What are the differences between `np.arange()`, `np.array()`, and `np.linspace()`? How \n",
    "many rows and columns will the matrix `np.arange(15).reshape(5, 3)` have?"
   ]
  },
  {
   "cell_type": "code",
   "execution_count": 7,
   "metadata": {},
   "outputs": [
    {
     "name": "stdout",
     "output_type": "stream",
     "text": [
      "[1 3 5 7 9]\n",
      "[1 2 3]\n",
      "[ 1.   1.5  2.   2.5  3.   3.5  4.   4.5  5.   5.5  6.   6.5  7.   7.5\n",
      "  8.   8.5  9.   9.5 10. ]\n",
      "(5, 3)\n",
      "[[ 0  1  2]\n",
      " [ 3  4  5]\n",
      " [ 6  7  8]\n",
      " [ 9 10 11]\n",
      " [12 13 14]]\n"
     ]
    }
   ],
   "source": [
    "# Solution to Q19\n",
    "\n",
    "from numpy import arange, array, linspace\n",
    "\n",
    "print(arange(1, 11, 2))\n",
    "print(array([1, 2, 3]))\n",
    "print(linspace(1, 10, 19))\n",
    "\n",
    "print(arange(15).reshape(5, 3).shape)\n",
    "print(arange(15).reshape(5, 3))"
   ]
  },
  {
   "cell_type": "markdown",
   "metadata": {},
   "source": [
    "20.  What are the differences between plt.plot(), plt.bar(), plt.hist(), and \n",
    "plt.scatter()? How do you set the color of a line? The marker shapes? The axis labels? The \n",
    "title? The legend?\n",
    "\n",
    "All four make a different type of graph (plot a line, plot a bar graph, plot a histogram, and plot a scatterplot). You can set the color by specifying a string that contains the appropriate color code. You can combine this with the linestyle in one string to change both. You can use `xlabel()` and `ylabel()` for the x and y axis labels. `title()` can set the title and `legend()` to help create the legend."
   ]
  },
  {
   "cell_type": "markdown",
   "metadata": {},
   "source": [
    "21.  Why is it important to include docstrings when writing functions? \n",
    "\n",
    "Docstrings help describe the function's use and what the parameters mean."
   ]
  }
 ],
 "metadata": {
  "kernelspec": {
   "display_name": "Python 3",
   "language": "python",
   "name": "python3"
  },
  "language_info": {
   "codemirror_mode": {
    "name": "ipython",
    "version": 3
   },
   "file_extension": ".py",
   "mimetype": "text/x-python",
   "name": "python",
   "nbconvert_exporter": "python",
   "pygments_lexer": "ipython3",
   "version": "3.11.5"
  }
 },
 "nbformat": 4,
 "nbformat_minor": 2
}
