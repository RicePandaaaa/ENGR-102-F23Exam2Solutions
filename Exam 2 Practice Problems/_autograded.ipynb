{
 "cells": [
  {
   "cell_type": "code",
   "execution_count": 5,
   "metadata": {},
   "outputs": [
    {
     "ename": "TypeError",
     "evalue": "can't multiply sequence by non-int of type 'tuple'",
     "output_type": "error",
     "traceback": [
      "\u001b[1;31m---------------------------------------------------------------------------\u001b[0m",
      "\u001b[1;31mTypeError\u001b[0m                                 Traceback (most recent call last)",
      "\u001b[1;32me:\\F23Exam2PracticeSolutions\\Exam 2 Practice Problems\\_autograded.ipynb Cell 1\u001b[0m line \u001b[0;36m5\n\u001b[0;32m      <a href='vscode-notebook-cell:/e%3A/F23Exam2PracticeSolutions/Exam%202%20Practice%20Problems/_autograded.ipynb#W0sZmlsZQ%3D%3D?line=2'>3</a>\u001b[0m vector1 \u001b[39m=\u001b[39m (\u001b[39m1\u001b[39m, \u001b[39m2\u001b[39m, \u001b[39m3\u001b[39m) \n\u001b[0;32m      <a href='vscode-notebook-cell:/e%3A/F23Exam2PracticeSolutions/Exam%202%20Practice%20Problems/_autograded.ipynb#W0sZmlsZQ%3D%3D?line=3'>4</a>\u001b[0m vector2 \u001b[39m=\u001b[39m (\u001b[39m2\u001b[39m, \u001b[39m3\u001b[39m, \u001b[39m4\u001b[39m) \n\u001b[1;32m----> <a href='vscode-notebook-cell:/e%3A/F23Exam2PracticeSolutions/Exam%202%20Practice%20Problems/_autograded.ipynb#W0sZmlsZQ%3D%3D?line=4'>5</a>\u001b[0m dotp \u001b[39m=\u001b[39m vector1 \u001b[39m*\u001b[39;49m vector2 \n\u001b[0;32m      <a href='vscode-notebook-cell:/e%3A/F23Exam2PracticeSolutions/Exam%202%20Practice%20Problems/_autograded.ipynb#W0sZmlsZQ%3D%3D?line=5'>6</a>\u001b[0m \u001b[39mprint\u001b[39m(\u001b[39mf\u001b[39m\u001b[39m\"\u001b[39m\u001b[39mThe dot product is \u001b[39m\u001b[39m{\u001b[39;00mdotp\u001b[39m}\u001b[39;00m\u001b[39m\"\u001b[39m)\n",
      "\u001b[1;31mTypeError\u001b[0m: can't multiply sequence by non-int of type 'tuple'"
     ]
    }
   ],
   "source": [
    "# Question 22\n",
    "\n",
    "vector1 = (1, 2, 3) \n",
    "vector2 = (2, 3, 4) \n",
    "dotp = vector1 * vector2 \n",
    "print(f\"The dot product is {dotp}\")"
   ]
  },
  {
   "cell_type": "code",
   "execution_count": 4,
   "metadata": {},
   "outputs": [
    {
     "name": "stdout",
     "output_type": "stream",
     "text": [
      "The dot product is 20\n"
     ]
    }
   ],
   "source": [
    "# Question 22 fixed\n",
    "\n",
    "def dotproduct(v1, v2):\n",
    "    if len(v1) != len(v2):\n",
    "        return None\n",
    "    \n",
    "    else:\n",
    "        final_values = []\n",
    "        for i in range(len(v1)):\n",
    "            final_values.append(v1[i] * v2[i])\n",
    "\n",
    "        return sum(final_values)\n",
    "\n",
    "vector1 = (1, 2, 3) \n",
    "vector2 = (2, 3, 4) \n",
    "dotp = dotproduct(vector1, vector2)\n",
    "print(f\"The dot product is {dotp}\")"
   ]
  },
  {
   "cell_type": "code",
   "execution_count": 13,
   "metadata": {},
   "outputs": [
    {
     "name": "stdout",
     "output_type": "stream",
     "text": [
      "('Howdy', [2, 0, 2, 7])\n"
     ]
    }
   ],
   "source": [
    "# Question 23\n",
    "\n",
    "mystr = \"Howdy\" \n",
    "mylist = [2, 0, 2, 0] \n",
    "mytuple = (mystr, mylist) \n",
    "mylist[3] = 7\n",
    "print(mytuple)"
   ]
  },
  {
   "cell_type": "code",
   "execution_count": 14,
   "metadata": {},
   "outputs": [
    {
     "name": "stdout",
     "output_type": "stream",
     "text": [
      "3\n"
     ]
    }
   ],
   "source": [
    "# Question 24\n",
    "\n",
    "def plus1_3(x): \n",
    "    return x + 1, x + 3 \n",
    "print(plus1_3(2)[0])"
   ]
  },
  {
   "cell_type": "code",
   "execution_count": 15,
   "metadata": {},
   "outputs": [
    {
     "name": "stdout",
     "output_type": "stream",
     "text": [
      "Help on function myfun in module __main__:\n",
      "\n",
      "myfun()\n",
      "    This function prints a message.\n",
      "\n"
     ]
    }
   ],
   "source": [
    "# Question 25\n",
    "\n",
    "def myfun(): \n",
    "    '''This function prints a message.''' \n",
    "    print(\"Gig 'em Aggies!\") \n",
    "help(myfun)"
   ]
  },
  {
   "cell_type": "code",
   "execution_count": 16,
   "metadata": {},
   "outputs": [
    {
     "ename": "SyntaxError",
     "evalue": "non-default argument follows default argument (2639123975.py, line 3)",
     "output_type": "error",
     "traceback": [
      "\u001b[1;36m  Cell \u001b[1;32mIn[16], line 3\u001b[1;36m\u001b[0m\n\u001b[1;33m    def myfunction(a, b=5, c):\u001b[0m\n\u001b[1;37m                           ^\u001b[0m\n\u001b[1;31mSyntaxError\u001b[0m\u001b[1;31m:\u001b[0m non-default argument follows default argument\n"
     ]
    }
   ],
   "source": [
    "# Question 26\n",
    "\n",
    "def myfunction(a, b=5, c): \n",
    "    return a * b * c \n",
    "print(myfunction(1, 2, 3))"
   ]
  },
  {
   "cell_type": "code",
   "execution_count": 18,
   "metadata": {},
   "outputs": [
    {
     "name": "stdout",
     "output_type": "stream",
     "text": [
      "6\n",
      "10\n"
     ]
    }
   ],
   "source": [
    "# Question 26\n",
    "\n",
    "def myfunction(a, c, b=5): \n",
    "    return a * b * c \n",
    "print(myfunction(1, 2, 3))\n",
    "print(myfunction(1, 2))"
   ]
  },
  {
   "cell_type": "code",
   "execution_count": 19,
   "metadata": {},
   "outputs": [
    {
     "name": "stdout",
     "output_type": "stream",
     "text": [
      "2 Too big!\n"
     ]
    }
   ],
   "source": [
    "# Question 27\n",
    "\n",
    "def add1(x): \n",
    "    if x + 1 < 10: \n",
    "        return x + 1 \n",
    "    else: \n",
    "        return 'Too big!' \n",
    "print(add1(1), add1(27))"
   ]
  },
  {
   "cell_type": "code",
   "execution_count": 20,
   "metadata": {},
   "outputs": [
    {
     "ename": "NameError",
     "evalue": "name 'timestwo' is not defined",
     "output_type": "error",
     "traceback": [
      "\u001b[1;31m---------------------------------------------------------------------------\u001b[0m",
      "\u001b[1;31mNameError\u001b[0m                                 Traceback (most recent call last)",
      "\u001b[1;32me:\\F23Exam2PracticeSolutions\\Exam 2 Practice Problems\\_autograded.ipynb Cell 9\u001b[0m line \u001b[0;36m4\n\u001b[0;32m      <a href='vscode-notebook-cell:/e%3A/F23Exam2PracticeSolutions/Exam%202%20Practice%20Problems/_autograded.ipynb#W6sZmlsZQ%3D%3D?line=0'>1</a>\u001b[0m \u001b[39m# Question 28\u001b[39;00m\n\u001b[0;32m      <a href='vscode-notebook-cell:/e%3A/F23Exam2PracticeSolutions/Exam%202%20Practice%20Problems/_autograded.ipynb#W6sZmlsZQ%3D%3D?line=2'>3</a>\u001b[0m x \u001b[39m=\u001b[39m \u001b[39m4\u001b[39m \n\u001b[1;32m----> <a href='vscode-notebook-cell:/e%3A/F23Exam2PracticeSolutions/Exam%202%20Practice%20Problems/_autograded.ipynb#W6sZmlsZQ%3D%3D?line=3'>4</a>\u001b[0m y \u001b[39m=\u001b[39m timestwo(x) \n\u001b[0;32m      <a href='vscode-notebook-cell:/e%3A/F23Exam2PracticeSolutions/Exam%202%20Practice%20Problems/_autograded.ipynb#W6sZmlsZQ%3D%3D?line=4'>5</a>\u001b[0m \u001b[39mdef\u001b[39;00m \u001b[39mtimestwo\u001b[39m(x): \n\u001b[0;32m      <a href='vscode-notebook-cell:/e%3A/F23Exam2PracticeSolutions/Exam%202%20Practice%20Problems/_autograded.ipynb#W6sZmlsZQ%3D%3D?line=5'>6</a>\u001b[0m     \u001b[39mreturn\u001b[39;00m x \u001b[39m*\u001b[39m \u001b[39m2\u001b[39m \n",
      "\u001b[1;31mNameError\u001b[0m: name 'timestwo' is not defined"
     ]
    }
   ],
   "source": [
    "# Question 28\n",
    "\n",
    "x = 4 \n",
    "y = timestwo(x) \n",
    "def timestwo(x): \n",
    "    return x * 2 \n",
    "print(y)"
   ]
  },
  {
   "cell_type": "code",
   "execution_count": 1,
   "metadata": {},
   "outputs": [
    {
     "name": "stdout",
     "output_type": "stream",
     "text": [
      "8\n"
     ]
    }
   ],
   "source": [
    "# Question 28 Fixed\n",
    "\n",
    "x = 4\n",
    "def timestwo(x): \n",
    "    return x * 2  \n",
    "y = timestwo(x) \n",
    "print(y)"
   ]
  },
  {
   "cell_type": "code",
   "execution_count": 2,
   "metadata": {},
   "outputs": [
    {
     "name": "stdout",
     "output_type": "stream",
     "text": [
      "Hi Ann\n"
     ]
    }
   ],
   "source": [
    "# Question 29\n",
    "\n",
    "mydict = {'Ann' : 18, 'Bob' : 20, 'Charlie' : 19} \n",
    "if 'Joe' in mydict: \n",
    "    print(\"Joe is here\") \n",
    "elif 'Ann' in mydict: \n",
    "    print(\"Hi Ann\") \n",
    "else: \n",
    "    print(\"Anyone?\")"
   ]
  },
  {
   "cell_type": "code",
   "execution_count": 1,
   "metadata": {},
   "outputs": [
    {
     "name": "stdout",
     "output_type": "stream",
     "text": [
      "Length: 5\n",
      "Max: 5\n",
      "Min: 1\n",
      "Crazy: 3\n"
     ]
    }
   ],
   "source": [
    "# Question 30\n",
    "\n",
    "mydict = {} \n",
    "mylist = [1, 2, 3, 4, 5] \n",
    "mydict['Length'] = len(mylist) \n",
    "mydict['Max'] = max(mylist) \n",
    "mydict['Min'] = min(mylist) \n",
    "mydict['Crazy'] = mylist[1] * mylist[3] - mylist[-1] \n",
    "for key in mydict: \n",
    "    print(f\"{key}: {mydict[key]}\")"
   ]
  },
  {
   "cell_type": "code",
   "execution_count": 2,
   "metadata": {},
   "outputs": [
    {
     "name": "stdout",
     "output_type": "stream",
     "text": [
      "Howdy Texas A&M Engineering students!\n"
     ]
    }
   ],
   "source": [
    "# Question 31\n",
    "\n",
    "mystr = \"Howdy! Welcome to Texas A&M Engineering!\" \n",
    "mylist = mystr.split() \n",
    "newstr = ''  # empty string \n",
    "for i in range(3, len(mylist)): \n",
    "    newstr += mylist[i] + ' ' \n",
    "print(mylist[0][:5] + ' ' + newstr[:-2] + ' students!')"
   ]
  },
  {
   "cell_type": "code",
   "execution_count": 3,
   "metadata": {},
   "outputs": [
    {
     "name": "stdout",
     "output_type": "stream",
     "text": [
      "1 3 4 5 7 9 "
     ]
    }
   ],
   "source": [
    "# Question 32\n",
    "\n",
    "mylist = [5, 3, 7, 9, 1, 2] \n",
    "mylist.pop() \n",
    "mylist.insert(2, 4) \n",
    "mylist.sort() \n",
    "for num in mylist: \n",
    "    print(num, end = ' ')"
   ]
  },
  {
   "cell_type": "code",
   "execution_count": 6,
   "metadata": {},
   "outputs": [
    {
     "ename": "ValueError",
     "evalue": "could not convert string to float: 'a'",
     "output_type": "error",
     "traceback": [
      "\u001b[1;31m---------------------------------------------------------------------------\u001b[0m",
      "\u001b[1;31mValueError\u001b[0m                                Traceback (most recent call last)",
      "\u001b[1;32me:\\F23Exam2PracticeSolutions\\Exam 2 Practice Problems\\_autograded.ipynb Cell 15\u001b[0m line \u001b[0;36m5\n\u001b[0;32m      <a href='vscode-notebook-cell:/e%3A/F23Exam2PracticeSolutions/Exam%202%20Practice%20Problems/_autograded.ipynb#X14sZmlsZQ%3D%3D?line=3'>4</a>\u001b[0m \u001b[39mtry\u001b[39;00m: \n\u001b[1;32m----> <a href='vscode-notebook-cell:/e%3A/F23Exam2PracticeSolutions/Exam%202%20Practice%20Problems/_autograded.ipynb#X14sZmlsZQ%3D%3D?line=4'>5</a>\u001b[0m     x \u001b[39m=\u001b[39m \u001b[39mint\u001b[39;49m(number) \n\u001b[0;32m      <a href='vscode-notebook-cell:/e%3A/F23Exam2PracticeSolutions/Exam%202%20Practice%20Problems/_autograded.ipynb#X14sZmlsZQ%3D%3D?line=5'>6</a>\u001b[0m     \u001b[39mprint\u001b[39m(\u001b[39mf\u001b[39m\u001b[39m\"\u001b[39m\u001b[39mx is the integer \u001b[39m\u001b[39m{\u001b[39;00mx\u001b[39m}\u001b[39;00m\u001b[39m\"\u001b[39m) \n",
      "\u001b[1;31mValueError\u001b[0m: invalid literal for int() with base 10: 'a'",
      "\nDuring handling of the above exception, another exception occurred:\n",
      "\u001b[1;31mValueError\u001b[0m                                Traceback (most recent call last)",
      "\u001b[1;32me:\\F23Exam2PracticeSolutions\\Exam 2 Practice Problems\\_autograded.ipynb Cell 15\u001b[0m line \u001b[0;36m8\n\u001b[0;32m      <a href='vscode-notebook-cell:/e%3A/F23Exam2PracticeSolutions/Exam%202%20Practice%20Problems/_autograded.ipynb#X14sZmlsZQ%3D%3D?line=5'>6</a>\u001b[0m     \u001b[39mprint\u001b[39m(\u001b[39mf\u001b[39m\u001b[39m\"\u001b[39m\u001b[39mx is the integer \u001b[39m\u001b[39m{\u001b[39;00mx\u001b[39m}\u001b[39;00m\u001b[39m\"\u001b[39m) \n\u001b[0;32m      <a href='vscode-notebook-cell:/e%3A/F23Exam2PracticeSolutions/Exam%202%20Practice%20Problems/_autograded.ipynb#X14sZmlsZQ%3D%3D?line=6'>7</a>\u001b[0m \u001b[39mexcept\u001b[39;00m: \n\u001b[1;32m----> <a href='vscode-notebook-cell:/e%3A/F23Exam2PracticeSolutions/Exam%202%20Practice%20Problems/_autograded.ipynb#X14sZmlsZQ%3D%3D?line=7'>8</a>\u001b[0m     x \u001b[39m=\u001b[39m \u001b[39mfloat\u001b[39;49m(number) \n\u001b[0;32m      <a href='vscode-notebook-cell:/e%3A/F23Exam2PracticeSolutions/Exam%202%20Practice%20Problems/_autograded.ipynb#X14sZmlsZQ%3D%3D?line=8'>9</a>\u001b[0m     \u001b[39mprint\u001b[39m(\u001b[39mf\u001b[39m\u001b[39m\"\u001b[39m\u001b[39mx is the float \u001b[39m\u001b[39m{\u001b[39;00mx\u001b[39m}\u001b[39;00m\u001b[39m\"\u001b[39m)\n",
      "\u001b[1;31mValueError\u001b[0m: could not convert string to float: 'a'"
     ]
    }
   ],
   "source": [
    "# Question 33\n",
    "\n",
    "number = input(\"Enter a number: \")  # This code only works if the user only inputs numbers\n",
    "try: \n",
    "    x = int(number) \n",
    "    print(f\"x is the integer {x}\") \n",
    "except: \n",
    "    x = float(number) \n",
    "    print(f\"x is the float {x}\")"
   ]
  },
  {
   "cell_type": "code",
   "execution_count": 10,
   "metadata": {},
   "outputs": [
    {
     "name": "stdout",
     "output_type": "stream",
     "text": [
      "a is neither a float or integer\n"
     ]
    }
   ],
   "source": [
    "# Question 33 \"Fixed\"\n",
    "\n",
    "number = input(\"Enter a number: \") \n",
    "try: \n",
    "    x = int(number) \n",
    "    print(f\"x is the integer {x}\") \n",
    "except: \n",
    "    try:\n",
    "        x = float(number) \n",
    "        print(f\"x is the float {x}\")\n",
    "    except:\n",
    "        print(f\"{number} is neither a float or integer\")"
   ]
  },
  {
   "cell_type": "code",
   "execution_count": 12,
   "metadata": {},
   "outputs": [
    {
     "name": "stdout",
     "output_type": "stream",
     "text": [
      "[0 1 2]\n",
      "8\n"
     ]
    }
   ],
   "source": [
    "# Question 34\n",
    "\n",
    "import numpy as np \n",
    "mygrid = np.arange(9).reshape(3, 3) \n",
    "print(mygrid[0]) \n",
    "print(mygrid[2, 2])"
   ]
  },
  {
   "cell_type": "code",
   "execution_count": 1,
   "metadata": {},
   "outputs": [
    {
     "name": "stdout",
     "output_type": "stream",
     "text": [
      "x,y\n",
      "1.0,0.0\n",
      "2.0,3.0\n",
      "3.0,8.0\n",
      "4.0,15.0\n",
      "5.0,24.0\n",
      "6.0,35.0\n",
      "7.0,48.0\n",
      "8.0,63.0\n",
      "9.0,80.0\n",
      "10.0,99.0\n",
      "\n"
     ]
    }
   ],
   "source": [
    "# Question 35\n",
    "\n",
    "import numpy as np \n",
    "x = np.linspace(1.0, 10.0, 10) \n",
    "y = x ** 2 - 1 \n",
    "with open('zfile.txt', 'w') as zfile: \n",
    "    zfile.write('x\\ty\\n') \n",
    "    for i in range(len(x)): \n",
    "        mystr = str(x[i]) + '\\t' + str(y[i]) \n",
    "        zfile.write(mystr + '\\n') \n",
    "with open('zfile.txt') as myfile: \n",
    "    all_of_it = myfile.read().split('\\t') \n",
    "output = ','.join(all_of_it) \n",
    "print(output)"
   ]
  },
  {
   "cell_type": "code",
   "execution_count": 4,
   "metadata": {},
   "outputs": [
    {
     "data": {
      "image/png": "[encoded data removed]",
      "text/plain": [
       "<Figure size 640x480 with 1 Axes>"
      ]
     },
     "metadata": {},
     "output_type": "display_data"
    }
   ],
   "source": [
    "# Question 36\n",
    "\n",
    "import numpy as np \n",
    "import matplotlib.pyplot as plt \n",
    "x = np.linspace(-2, 2, 25) \n",
    "y1 = x \n",
    "y2 = x ** 2 \n",
    "plt.plot(x, y1, 'g', linewidth = 3) \n",
    "plt.plot(x, y2, 'k', marker = 'o', markerfacecolor = 'b') \n",
    "plt.axis([-2, 2, -2, 4]) \n",
    "plt.xlabel('x') \n",
    "plt.ylabel('f(x)') \n",
    "plt.title('Plots for 2 polynomials') \n",
    "plt.legend(['straight', 'curved'], loc = 'upper center') \n",
    "plt.show()"
   ]
  }
 ],
 "metadata": {
  "kernelspec": {
   "display_name": "Python 3",
   "language": "python",
   "name": "python3"
  },
  "language_info": {
   "codemirror_mode": {
    "name": "ipython",
    "version": 3
   },
   "file_extension": ".py",
   "mimetype": "text/x-python",
   "name": "python",
   "nbconvert_exporter": "python",
   "pygments_lexer": "ipython3",
   "version": "3.11.5"
  }
 },
 "nbformat": 4,
 "nbformat_minor": 2
}
